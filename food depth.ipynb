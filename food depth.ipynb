{
 "cells": [
  {
   "cell_type": "code",
   "execution_count": 16,
   "metadata": {},
   "outputs": [
    {
     "name": "stdout",
     "output_type": "stream",
     "text": [
      "Estimated volume of the food: 11541.375 cm³\n"
     ]
    }
   ],
   "source": [
    "import cv2\n",
    "import numpy as np\n",
    "\n",
    "def load_image(file_path):\n",
    "    image = cv2.imread(file_path)\n",
    "    return image\n",
    "\n",
    "def preprocess_image(image):\n",
    "    gray_image = cv2.cvtColor(image, cv2.COLOR_BGR2GRAY)\n",
    "    blurred_image = cv2.GaussianBlur(gray_image, (7, 7), 0)\n",
    "    return blurred_image\n",
    "\n",
    "def detect_food_area(image):\n",
    "    _, thresholded = cv2.threshold(image, 60, 255, cv2.THRESH_BINARY_INV)\n",
    "    contours, _ = cv2.findContours(thresholded, cv2.RETR_EXTERNAL, cv2.CHAIN_APPROX_SIMPLE)\n",
    "    largest_contour = max(contours, key=cv2.contourArea)\n",
    "    area = cv2.contourArea(largest_contour)\n",
    "    return area, largest_contour\n",
    "\n",
    "def estimate_volume(area_pixels, calibration_factor, bowl_depth):\n",
    "    # Convert pixel area to physical area in square cm (example calibration factor)\n",
    "    area_cm2 = area_pixels * calibration_factor\n",
    "    # Estimating volume assuming a uniform food depth (simplification)\n",
    "    volume_cm3 = area_cm2 * bowl_depth\n",
    "    return volume_cm3\n",
    "\n",
    "def main():\n",
    "    file_path = \"./120364.jpg\"  # Replace with your image file path\n",
    "    image = load_image(file_path)\n",
    "    preprocessed_image = preprocess_image(image)\n",
    "    food_area, food_contour = detect_food_area(preprocessed_image)\n",
    "\n",
    "    # Example calibration factor and bowl depth\n",
    "    calibration_factor = 0.05  # square cm per pixel, needs actual calibration\n",
    "    bowl_depth = 5  # cm, assuming known or measured separately\n",
    "\n",
    "    volume = estimate_volume(food_area, calibration_factor, bowl_depth)\n",
    "    print(f\"Estimated volume of the food: {volume} cm³\")\n",
    "\n",
    "if __name__ == \"__main__\":\n",
    "    main()\n"
   ]
  },
  {
   "cell_type": "code",
   "execution_count": null,
   "metadata": {},
   "outputs": [],
   "source": []
  }
 ],
 "metadata": {
  "kernelspec": {
   "display_name": "Python 3",
   "language": "python",
   "name": "python3"
  },
  "language_info": {
   "codemirror_mode": {
    "name": "ipython",
    "version": 3
   },
   "file_extension": ".py",
   "mimetype": "text/x-python",
   "name": "python",
   "nbconvert_exporter": "python",
   "pygments_lexer": "ipython3",
   "version": "3.10.10"
  }
 },
 "nbformat": 4,
 "nbformat_minor": 2
}
